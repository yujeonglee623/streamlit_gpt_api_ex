{
 "cells": [
  {
   "cell_type": "markdown",
   "id": "28956250",
   "metadata": {},
   "source": [
    "# openai api key test"
   ]
  },
  {
   "cell_type": "markdown",
   "id": "659d6a5f",
   "metadata": {},
   "source": [
    "## API key Loading"
   ]
  },
  {
   "cell_type": "code",
   "execution_count": 7,
   "id": "05b997f7",
   "metadata": {},
   "outputs": [],
   "source": [
    "from dotenv import load_dotenv\n",
    "import os\n",
    "\n",
    "# 환경변수 로딩\n",
    "load_dotenv(override=True)\n",
    "\n",
    "# 메모리에 로딩된 값을 api_key 변수에 대입\n",
    "OPENAI_API_KEY = os.getenv(\"OPENAI_API_KEY\")\n",
    "# print(OPENAI_API_KEY)"
   ]
  },
  {
   "cell_type": "code",
   "execution_count": null,
   "id": "a0ebf882",
   "metadata": {},
   "outputs": [],
   "source": [
    "from openai import OpenAI\n",
    "# openai api 인증 및 OpenAI 객체 생성\n",
    "client = OpenAI(api_key=OPENAI_API_KEY)"
   ]
  },
  {
   "cell_type": "code",
   "execution_count": 12,
   "id": "b019897e",
   "metadata": {},
   "outputs": [
    {
     "name": "stdout",
     "output_type": "stream",
     "text": [
      "ChatCompletionMessage(content='전세계에서 가장 많이 사용되는 프로그래밍 언어 Top 5는 다음과 같습니다:\\n\\n1. Java: 엔터프라이즈 애플리케이션부터 안드로이드 앱까지 다양한 영역에서 사용되는 널리 쓰이는 언어입니다.\\n2. Python: 다양한 분야에서 사용되며, 머신러닝, 데이터 분석, 웹 개발 등에 많이 활용됩니다.\\n3. JavaScript: 웹 개발에서 필수적으로 사용되는 언어로, 프론트엔드 및 백엔드 개발에 활용됩니다.\\n4. C#: Microsoft의 .NET 프레임워크에서 사용되는 언어로, 윈도우 애플리케이션 및 게임 개발에 자주 사용됩니다.\\n5. C++: 성능이 중요한 애플리케이션 개발이나 시스템 프로그래밍 등에 많이 사용되는 언어입니다.', refusal=None, role='assistant', annotations=[], audio=None, function_call=None, tool_calls=None)\n"
     ]
    }
   ],
   "source": [
    "completion = client.chat.completions.create(\n",
    "  model=\"gpt-3.5-turbo\",\n",
    "  messages=[\n",
    "    {\"role\": \"system\", \"content\": \"너는 IT전문가야.\"},\n",
    "    {\"role\": \"user\", \"content\": \"전세계서 가장 많이 사용하는 프로그래밍 언어 top5를 얘기해줘\"}\n",
    "  ]\n",
    ")\n",
    "\n",
    "print(completion.choices[0].message)"
   ]
  },
  {
   "cell_type": "code",
   "execution_count": null,
   "id": "465d3450",
   "metadata": {},
   "outputs": [],
   "source": []
  }
 ],
 "metadata": {
  "kernelspec": {
   "display_name": "gpt_env",
   "language": "python",
   "name": "python3"
  },
  "language_info": {
   "codemirror_mode": {
    "name": "ipython",
    "version": 3
   },
   "file_extension": ".py",
   "mimetype": "text/x-python",
   "name": "python",
   "nbconvert_exporter": "python",
   "pygments_lexer": "ipython3",
   "version": "3.12.12"
  }
 },
 "nbformat": 4,
 "nbformat_minor": 5
}
